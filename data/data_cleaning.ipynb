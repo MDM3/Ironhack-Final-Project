{
 "cells": [
  {
   "cell_type": "code",
   "execution_count": 14,
   "metadata": {},
   "outputs": [],
   "source": [
    "import geopandas as gpd\n",
    "import pandas as pd"
   ]
  },
  {
   "cell_type": "markdown",
   "metadata": {},
   "source": [
    "#### IMPORT SHAPEFILES\n",
    "###### Shapefile format is a geospatial vector data format for geographic information system (GIS) software."
   ]
  },
  {
   "cell_type": "code",
   "execution_count": 15,
   "metadata": {},
   "outputs": [],
   "source": [
    "buildings = gpd.read_file(r\"C:\\Users\\Darkos\\Desktop\\Labs\\Final_project\\Data\\parcelario\\parcelario_dist.shp\")\n",
    "railway = gpd.read_file(r\"C:\\Users\\Darkos\\Desktop\\Labs\\Final_project\\Data\\Shapefiles\\vias_tren_dist.shp\", encoding='utf-8')\n",
    "roads = gpd.read_file(r\"C:\\Users\\Darkos\\Desktop\\Labs\\Final_project\\Data\\Shapefiles\\carreteras_dist_5.shp\", encoding='utf-8')\n",
    "rivers = gpd.read_file(r\"C:\\Users\\Darkos\\Desktop\\Labs\\Final_project\\Data\\data.gpkg\", layer = 'Rios')"
   ]
  },
  {
   "cell_type": "code",
   "execution_count": 16,
   "metadata": {},
   "outputs": [],
   "source": [
    "df_buildings = buildings.copy()\n",
    "df_railway = railway.copy()\n",
    "df_roads = roads.copy()\n",
    "df_rivers = rivers.copy()"
   ]
  },
  {
   "cell_type": "markdown",
   "metadata": {},
   "source": [
    "#### DEALING WITH BUILDINGS DATAFRAME"
   ]
  },
  {
   "cell_type": "code",
   "execution_count": 31,
   "metadata": {},
   "outputs": [],
   "source": [
    "df_buildings.columns = [column.lower() for column in df_buildings.columns]\n",
    "df_buildings['fid'] = df_buildings['fid'].astype(int)\n",
    "df_buildings['via'] = df_buildings['via'].astype(int)\n",
    "df_buildings['numero'] = df_buildings['numero'].astype(int)\n",
    "df_buildings['municipio'] = df_buildings['municipio'].astype(int)\n",
    "df_buildings['distance'] = df_buildings['distance'].round()"
   ]
  },
  {
   "cell_type": "code",
   "execution_count": 32,
   "metadata": {},
   "outputs": [],
   "source": [
    "mapeo = {\n",
    "    'BARRANC DE': 'RIO',\n",
    "    'BARRANCO DE': 'RIO',\n",
    "    'BARRANC DEL': 'RIO',\n",
    "    'BARRANCO DEL': 'RIO',\n",
    "    'BARRANCO DELS': 'RIO',\n",
    "}\n",
    "\n",
    "df_buildings['nom_rio'] = (df_buildings['nom_rio'].str.replace(r'BARRANC DE|BARRANCO DE|BARRANC DEL|BARRANCO DEL|BARRANCO DELS', 'RIO', regex=True))"
   ]
  },
  {
   "cell_type": "code",
   "execution_count": null,
   "metadata": {},
   "outputs": [],
   "source": [
    "df_buildings.head(1)"
   ]
  },
  {
   "cell_type": "code",
   "execution_count": 34,
   "metadata": {},
   "outputs": [],
   "source": [
    "df_buildings.drop(columns=['geometry'],inplace=True)"
   ]
  },
  {
   "cell_type": "code",
   "execution_count": null,
   "metadata": {},
   "outputs": [],
   "source": [
    "df_buildings.head(5)"
   ]
  },
  {
   "cell_type": "code",
   "execution_count": 36,
   "metadata": {},
   "outputs": [],
   "source": [
    "df_buildings.to_csv('df_buildings.csv', encoding='utf-8', index=False)"
   ]
  },
  {
   "cell_type": "code",
   "execution_count": null,
   "metadata": {},
   "outputs": [],
   "source": [
    "df_buildings.head(1)"
   ]
  },
  {
   "cell_type": "markdown",
   "metadata": {},
   "source": [
    "#### DEALING WITH ROADS DATAFRAME"
   ]
  },
  {
   "cell_type": "code",
   "execution_count": null,
   "metadata": {},
   "outputs": [],
   "source": [
    "df_roads.head(1)"
   ]
  },
  {
   "cell_type": "code",
   "execution_count": 17,
   "metadata": {},
   "outputs": [],
   "source": [
    "df_roads.drop(columns=['geometry', 'accesod','sentido'], inplace=True)"
   ]
  },
  {
   "cell_type": "code",
   "execution_count": null,
   "metadata": {},
   "outputs": [],
   "source": [
    "columns = list(df_roads.columns)\n",
    "columns[3:11]\n",
    "\n",
    "for column in columns[3:15]:\n",
    "    unique_values = df_roads[column].unique()\n",
    "    print(f'{column}: {unique_values}\\n')"
   ]
  },
  {
   "cell_type": "code",
   "execution_count": 18,
   "metadata": {},
   "outputs": [],
   "source": [
    "df_roads.columns = [column.lower() for column in df_roads.columns]\n",
    "df_roads.rename(columns={'objectid': 'rio_id'}, inplace=True)\n",
    "\n",
    "df_roads['fid'] = df_roads['fid'].astype(int)\n",
    "\n",
    "df_roads['id_tramo'] = df_roads['id_tramo'].astype(str)\n",
    "df_roads['id_vial'] = df_roads['id_vial'].astype(str)\n",
    "df_roads['id_tramo'] = [x.replace('.0','') for x in df_roads['id_tramo']]\n",
    "df_roads['id_vial'] = [x.replace('.0','') for x in df_roads['id_vial']]\n",
    "\n",
    "df_roads['rio_id'] = df_roads['rio_id'].astype(int)\n",
    "df_roads['distance_2'] = df_roads['distance_2'].round(2)\n",
    "\n",
    "df_roads['tipovehicd'] = df_roads['tipovehicd'].apply(lambda x: 'Desconocido' if x in ['1','10'] else x )\n",
    "\n",
    "tipo_viald_dict = {\n",
    "    'CARRE': 'Carretera',\n",
    "    'CALLE': 'Calle',\n",
    "    'TRVA': 'Travesía',\n",
    "    'Carretera': 'Carretera',\n",
    "    'AVDA': 'Avenida',\n",
    "    'C': 'Calle o Camino',\n",
    "    'Desconocido': 'Desconocido',\n",
    "    'PLAZA': 'Plaza',\n",
    "    'Vial camino': 'Camino vial',\n",
    "    'Vial bici': 'Carril bici',\n",
    "    'C/': 'Calle',\n",
    "    'CMNO': 'Camino',\n",
    "    'CTRA': 'Carretera',\n",
    "    'Red TenT Global': 'Red de Transporte Trans-Europea',\n",
    "    'VREDA': 'Vereda',\n",
    "    'PG': 'Passeig (Paseo)',\n",
    "    'CAMI': 'Camí (Camino en valenciano)',\n",
    "    'AV': 'Avenida',\n",
    "    '.': 'Sin especificar',\n",
    "    'URBAT': 'Urbanización',\n",
    "    'AVGDA': 'Avinguda (Avenida en valenciano)',\n",
    "    'TRSSI': 'Trassera o camino lateral',\n",
    "    'PLAÇA': 'Plaça (Plaza en valenciano)',\n",
    "    'BARDA': 'Bardal o muro/límite',\n",
    "    'POLIG': 'Polígono',\n",
    "    'PSAJE': 'Pasaje',\n",
    "    'URB': 'Urbanización',\n",
    "    'RONDA': 'Ronda (vía periférica)',\n",
    "    'PTDA': 'Partida (zona rural)',\n",
    "    None: 'Sin datos',\n",
    "    'Itinerario Europeo': 'Ruta internacional',\n",
    "    'PISTA': 'Pista (camino no pavimentado)',\n",
    "    'PQUE': 'Parque',\n",
    "    'PTGE': 'Passatge (Pasaje en valenciano)',\n",
    "    'PL': 'Plaza',\n",
    "    'PASEO': 'Paseo',\n",
    "    'GRUPO': 'Grupo de viviendas/edificios',\n",
    "    'CRO': 'Cruce',\n",
    "    'Vía verde': 'Vía verde (camino rural adaptado)',\n",
    "    'CLLON': 'Callejón',\n",
    "    'TRAV': 'Travesía',\n",
    "    'ENTD': 'Entrada',\n",
    "    'BARRI': 'Barri (Barrio en valenciano)',\n",
    "    'PARTI': 'Partida (zona rural)',\n",
    "    'C.V.': 'Carretera Valenciana',\n",
    "    'CRA': 'Carretera',\n",
    "    'LLOC': 'Lloc (Lugar en valenciano)',\n",
    "    'G.V.': 'Gran Vía'\n",
    "}\n",
    "\n",
    "df_roads['tipo_viald'] = df_roads['tipo_viald'].map(tipo_viald_dict)"
   ]
  },
  {
   "cell_type": "code",
   "execution_count": 19,
   "metadata": {},
   "outputs": [
    {
     "data": {
      "text/html": [
       "<div>\n",
       "<style scoped>\n",
       "    .dataframe tbody tr th:only-of-type {\n",
       "        vertical-align: middle;\n",
       "    }\n",
       "\n",
       "    .dataframe tbody tr th {\n",
       "        vertical-align: top;\n",
       "    }\n",
       "\n",
       "    .dataframe thead th {\n",
       "        text-align: right;\n",
       "    }\n",
       "</style>\n",
       "<table border=\"1\" class=\"dataframe\">\n",
       "  <thead>\n",
       "    <tr style=\"text-align: right;\">\n",
       "      <th></th>\n",
       "      <th>fid</th>\n",
       "      <th>id_tramo</th>\n",
       "      <th>id_vial</th>\n",
       "      <th>tipo_tramd</th>\n",
       "      <th>calzadad</th>\n",
       "      <th>firmed</th>\n",
       "      <th>ncarriles</th>\n",
       "      <th>sentidod</th>\n",
       "      <th>situaciond</th>\n",
       "      <th>tipovehicd</th>\n",
       "      <th>titulard</th>\n",
       "      <th>fuente_td</th>\n",
       "      <th>clased</th>\n",
       "      <th>tipo_viald</th>\n",
       "      <th>nombre</th>\n",
       "      <th>rio_id</th>\n",
       "      <th>length</th>\n",
       "      <th>nom_rio</th>\n",
       "      <th>shape_leng</th>\n",
       "      <th>distance_2</th>\n",
       "    </tr>\n",
       "  </thead>\n",
       "  <tbody>\n",
       "    <tr>\n",
       "      <th>0</th>\n",
       "      <td>4609</td>\n",
       "      <td>460050000027</td>\n",
       "      <td>460050000418</td>\n",
       "      <td>Troncal</td>\n",
       "      <td>Única</td>\n",
       "      <td>Pavimentado</td>\n",
       "      <td>Desconocido</td>\n",
       "      <td>Único</td>\n",
       "      <td>En superficie</td>\n",
       "      <td>Peatón+bici+vehículo</td>\n",
       "      <td>Ayuntamiento</td>\n",
       "      <td>Comunidad Valenciana</td>\n",
       "      <td>Urbano</td>\n",
       "      <td>Carretera</td>\n",
       "      <td>COSTERA (DE LA)</td>\n",
       "      <td>22899</td>\n",
       "      <td>116.494</td>\n",
       "      <td>RIO TORRENT</td>\n",
       "      <td>19079.180897</td>\n",
       "      <td>640.62</td>\n",
       "    </tr>\n",
       "    <tr>\n",
       "      <th>1</th>\n",
       "      <td>4615</td>\n",
       "      <td>460050000034</td>\n",
       "      <td>460050000383</td>\n",
       "      <td>Troncal</td>\n",
       "      <td>Única</td>\n",
       "      <td>Pavimentado</td>\n",
       "      <td>1</td>\n",
       "      <td>Único</td>\n",
       "      <td>En superficie</td>\n",
       "      <td>Peatón+bici+vehículo</td>\n",
       "      <td>Ayuntamiento</td>\n",
       "      <td>Comunidad Valenciana</td>\n",
       "      <td>Urbano</td>\n",
       "      <td>Calle</td>\n",
       "      <td>RACO D'ADEMUS</td>\n",
       "      <td>22899</td>\n",
       "      <td>139.944</td>\n",
       "      <td>RIO TORRENT</td>\n",
       "      <td>19079.180897</td>\n",
       "      <td>743.00</td>\n",
       "    </tr>\n",
       "    <tr>\n",
       "      <th>2</th>\n",
       "      <td>4616</td>\n",
       "      <td>460050000035</td>\n",
       "      <td>460050000365</td>\n",
       "      <td>Troncal</td>\n",
       "      <td>Única</td>\n",
       "      <td>Pavimentado</td>\n",
       "      <td>1</td>\n",
       "      <td>Único</td>\n",
       "      <td>En superficie</td>\n",
       "      <td>Peatón+bici+vehículo</td>\n",
       "      <td>Ayuntamiento</td>\n",
       "      <td>Comunidad Valenciana</td>\n",
       "      <td>Urbano</td>\n",
       "      <td>Travesía</td>\n",
       "      <td>BOVALAR DEL</td>\n",
       "      <td>22899</td>\n",
       "      <td>111.943</td>\n",
       "      <td>RIO TORRENT</td>\n",
       "      <td>19079.180897</td>\n",
       "      <td>637.07</td>\n",
       "    </tr>\n",
       "    <tr>\n",
       "      <th>3</th>\n",
       "      <td>4626</td>\n",
       "      <td>460050000050</td>\n",
       "      <td>460050000383</td>\n",
       "      <td>Troncal</td>\n",
       "      <td>Única</td>\n",
       "      <td>Pavimentado</td>\n",
       "      <td>1</td>\n",
       "      <td>Único</td>\n",
       "      <td>En superficie</td>\n",
       "      <td>Peatón+bici+vehículo</td>\n",
       "      <td>Ayuntamiento</td>\n",
       "      <td>Comunidad Valenciana</td>\n",
       "      <td>Urbano</td>\n",
       "      <td>Calle</td>\n",
       "      <td>RACO D'ADEMUS</td>\n",
       "      <td>22899</td>\n",
       "      <td>178.545</td>\n",
       "      <td>RIO TORRENT</td>\n",
       "      <td>19079.180897</td>\n",
       "      <td>740.64</td>\n",
       "    </tr>\n",
       "    <tr>\n",
       "      <th>4</th>\n",
       "      <td>4627</td>\n",
       "      <td>460050000051</td>\n",
       "      <td>460050000196</td>\n",
       "      <td>Troncal</td>\n",
       "      <td>Única</td>\n",
       "      <td>Pavimentado</td>\n",
       "      <td>2</td>\n",
       "      <td>Doble</td>\n",
       "      <td>En superficie</td>\n",
       "      <td>Peatón+bici+vehículo</td>\n",
       "      <td>Ayuntamiento</td>\n",
       "      <td>Comunidad Valenciana</td>\n",
       "      <td>Urbano</td>\n",
       "      <td>Calle</td>\n",
       "      <td>CAMP DEL TURIA</td>\n",
       "      <td>22899</td>\n",
       "      <td>124.420</td>\n",
       "      <td>RIO TORRENT</td>\n",
       "      <td>19079.180897</td>\n",
       "      <td>617.98</td>\n",
       "    </tr>\n",
       "  </tbody>\n",
       "</table>\n",
       "</div>"
      ],
      "text/plain": [
       "    fid      id_tramo       id_vial tipo_tramd calzadad       firmed  \\\n",
       "0  4609  460050000027  460050000418    Troncal    Única  Pavimentado   \n",
       "1  4615  460050000034  460050000383    Troncal    Única  Pavimentado   \n",
       "2  4616  460050000035  460050000365    Troncal    Única  Pavimentado   \n",
       "3  4626  460050000050  460050000383    Troncal    Única  Pavimentado   \n",
       "4  4627  460050000051  460050000196    Troncal    Única  Pavimentado   \n",
       "\n",
       "     ncarriles sentidod     situaciond            tipovehicd      titulard  \\\n",
       "0  Desconocido    Único  En superficie  Peatón+bici+vehículo  Ayuntamiento   \n",
       "1            1    Único  En superficie  Peatón+bici+vehículo  Ayuntamiento   \n",
       "2            1    Único  En superficie  Peatón+bici+vehículo  Ayuntamiento   \n",
       "3            1    Único  En superficie  Peatón+bici+vehículo  Ayuntamiento   \n",
       "4            2    Doble  En superficie  Peatón+bici+vehículo  Ayuntamiento   \n",
       "\n",
       "              fuente_td  clased tipo_viald           nombre  rio_id   length  \\\n",
       "0  Comunidad Valenciana  Urbano  Carretera  COSTERA (DE LA)   22899  116.494   \n",
       "1  Comunidad Valenciana  Urbano      Calle    RACO D'ADEMUS   22899  139.944   \n",
       "2  Comunidad Valenciana  Urbano   Travesía      BOVALAR DEL   22899  111.943   \n",
       "3  Comunidad Valenciana  Urbano      Calle    RACO D'ADEMUS   22899  178.545   \n",
       "4  Comunidad Valenciana  Urbano      Calle   CAMP DEL TURIA   22899  124.420   \n",
       "\n",
       "       nom_rio    shape_leng  distance_2  \n",
       "0  RIO TORRENT  19079.180897      640.62  \n",
       "1  RIO TORRENT  19079.180897      743.00  \n",
       "2  RIO TORRENT  19079.180897      637.07  \n",
       "3  RIO TORRENT  19079.180897      740.64  \n",
       "4  RIO TORRENT  19079.180897      617.98  "
      ]
     },
     "execution_count": 19,
     "metadata": {},
     "output_type": "execute_result"
    }
   ],
   "source": [
    "df_roads.head()"
   ]
  },
  {
   "cell_type": "code",
   "execution_count": 21,
   "metadata": {},
   "outputs": [],
   "source": [
    "### EXPORT DATAFRAME\n",
    "\n",
    "df_roads.to_csv('df_roads.csv', encoding='utf-8-sig', index=False)\n"
   ]
  },
  {
   "cell_type": "markdown",
   "metadata": {},
   "source": [
    "#### DEALING WITH RAILWAY DATAFRAME"
   ]
  },
  {
   "cell_type": "code",
   "execution_count": null,
   "metadata": {},
   "outputs": [],
   "source": [
    "df_railway.head(1)"
   ]
  },
  {
   "cell_type": "code",
   "execution_count": null,
   "metadata": {},
   "outputs": [],
   "source": [
    "df_railway.drop(columns=['geometry'],inplace=True)"
   ]
  },
  {
   "cell_type": "code",
   "execution_count": null,
   "metadata": {},
   "outputs": [],
   "source": [
    "df_railway['rio_id'] = df_railway['rio_id'].astype(int)\n",
    "df_railway['dist_to_ri'] = df_railway['dist_to_ri'].round(2)\n",
    "df_railway = df_railway.rename(columns={'dist_to_ri': 'dist_to_river'})\n",
    "\n",
    "\n",
    "df_railway['estado'] = df_railway['estado'].replace({None:'No afectada','1':'Afectada'})\n",
    "df_railway['fid'] = df_railway['fid'].astype(int)\n",
    "df_railway['id_tramo'] = df_railway['id_tramo'].astype(int)"
   ]
  },
  {
   "cell_type": "code",
   "execution_count": null,
   "metadata": {},
   "outputs": [],
   "source": [
    "columns = list(df_railway.columns)\n",
    "\n",
    "for column in columns[1:11]:\n",
    "    unique_values = df_railway[column].unique()\n",
    "    print(f'{column}: {unique_values}\\n')"
   ]
  },
  {
   "cell_type": "code",
   "execution_count": null,
   "metadata": {},
   "outputs": [],
   "source": [
    "df_railway.to_csv('df_railway.csv', encoding='utf-8-sig', index = False)"
   ]
  },
  {
   "cell_type": "markdown",
   "metadata": {},
   "source": [
    "#### DEALING WITH RIVERS DATAFRAME"
   ]
  },
  {
   "cell_type": "code",
   "execution_count": null,
   "metadata": {},
   "outputs": [],
   "source": [
    "df_rivers.head(1)"
   ]
  },
  {
   "cell_type": "code",
   "execution_count": null,
   "metadata": {},
   "outputs": [],
   "source": [
    "df_rivers.drop(columns=['color','geometry','cod_mar'], axis=1, inplace=True)"
   ]
  },
  {
   "cell_type": "code",
   "execution_count": null,
   "metadata": {},
   "outputs": [],
   "source": [
    "df_rivers.columns = [column.lower() for column in df_rivers.columns]\n",
    "df_rivers['objectid'] = df_rivers['objectid'].astype(int)\n",
    "df_rivers['shape_leng'] = df_rivers['shape_leng'].round(1)\n",
    "df_rivers = df_rivers.rename(columns={'shape_leng':'shape_leng (m)'})\n",
    "\n",
    "df_rivers.head(1)"
   ]
  },
  {
   "cell_type": "code",
   "execution_count": null,
   "metadata": {},
   "outputs": [],
   "source": [
    "df_rivers.to_csv('df_rivers.csv', encoding='utf-8-sig', index=False)"
   ]
  },
  {
   "cell_type": "code",
   "execution_count": null,
   "metadata": {},
   "outputs": [],
   "source": []
  },
  {
   "cell_type": "code",
   "execution_count": null,
   "metadata": {},
   "outputs": [],
   "source": []
  }
 ],
 "metadata": {
  "kernelspec": {
   "display_name": "base",
   "language": "python",
   "name": "python3"
  },
  "language_info": {
   "codemirror_mode": {
    "name": "ipython",
    "version": 3
   },
   "file_extension": ".py",
   "mimetype": "text/x-python",
   "name": "python",
   "nbconvert_exporter": "python",
   "pygments_lexer": "ipython3",
   "version": "3.12.7"
  }
 },
 "nbformat": 4,
 "nbformat_minor": 2
}
